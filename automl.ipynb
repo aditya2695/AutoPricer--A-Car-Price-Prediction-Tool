{
 "cells": [
  {
   "cell_type": "code",
   "execution_count": null,
   "metadata": {},
   "outputs": [],
   "source": [
    "\n",
    "import h2o\n",
    "from h2o.automl import H2OAutoML\n",
    "\n",
    "# Initialize h2o cluster\n",
    "h2o.init()\n",
    "\n",
    "# Load dataset\n",
    "df = h2o.import_file('data/cars_cleaned.csv')\n",
    "\n",
    "# Split data into train and test sets\n",
    "train, test = df.split_frame(ratios=[0.8])\n",
    "\n",
    "# Set target variable\n",
    "target = 'price'\n",
    "\n",
    "# Run AutoML\n",
    "aml = H2OAutoML(max_models=10, seed=1)\n",
    "aml.train(y=target, training_frame=train)\n",
    "\n",
    "# Get leaderboard of models\n",
    "lb = aml.leaderboard\n",
    "\n",
    "# Predict on test set using the best model\n",
    "best_model = aml.leader\n",
    "predictions = best_model.predict(test)\n",
    "\n",
    "# Shutdown h2o cluster\n",
    "h2o.shutdown()"
   ]
  }
 ],
 "metadata": {
  "kernelspec": {
   "display_name": "base",
   "language": "python",
   "name": "python3"
  },
  "language_info": {
   "name": "python",
   "version": "3.9.12"
  },
  "orig_nbformat": 4
 },
 "nbformat": 4,
 "nbformat_minor": 2
}
